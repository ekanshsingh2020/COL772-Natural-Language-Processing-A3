{
 "cells": [
  {
   "cell_type": "code",
   "execution_count": 1,
   "metadata": {},
   "outputs": [],
   "source": [
    "import json\n",
    "import tqdm"
   ]
  },
  {
   "cell_type": "code",
   "execution_count": 4,
   "metadata": {},
   "outputs": [
    {
     "name": "stderr",
     "output_type": "stream",
     "text": [
      "100%|██████████| 1376/1376 [00:00<00:00, 10267.87it/s]\n"
     ]
    }
   ],
   "source": [
    "with open('biolaysumm2024_data/PLOS_val.jsonl') as f:\n",
    "    data = f.readlines()\n",
    "    # print(data)\n",
    "\n",
    "    finalarr = []\n",
    "\n",
    "    for i in tqdm.tqdm(data):\n",
    "        ni = json.loads(i)\n",
    "        text = ni['article']\n",
    "        # take the string only till we encounter the second '\\n' and remove the rest\n",
    "        text = text[:text.find('\\n', text.find('\\n')+1)]\n",
    "        # remove the first '\\n' from the string\n",
    "        text = text.replace('\\n', '', 1)\n",
    "        finalarr.append(text)"
   ]
  },
  {
   "cell_type": "code",
   "execution_count": 5,
   "metadata": {},
   "outputs": [
    {
     "name": "stdout",
     "output_type": "stream",
     "text": [
      "1376\n",
      "Gene expression varies widely between individuals of a population , and regulatory change can underlie phenotypes of evolutionary and biomedical relevance . A key question in the field is how DNA sequence variants impact gene expression , with most mechanistic studies to date focused on the effects of genetic change on regulatory regions upstream of protein-coding sequence . By contrast , the role of RNA 3′-end processing in regulatory variation remains largely unknown , owing in part to the challenge of identifying functional elements in 3′ untranslated regions . In this work , we conducted a genomic survey of transcript ends in lymphoblastoid cells from genetically distinct human individuals . Our analysis mapped the cis-regulatory architecture of 3′ gene ends , finding that transcript end positions did not fall randomly in untranslated regions , but rather preferentially flanked the locations of 3′ regulatory elements , including miRNA sites . The usage of these transcript length forms and motifs varied across human individuals , and polymorphisms in polyadenylation signals and other 3′ motifs were significant predictors of expression levels of the genes in which they lay . Independent single-gene experiments confirmed the effects of polyadenylation variants on steady-state expression of their respective genes , and validated the regulatory function of 3′ cis-regulatory sequence elements that mediated expression of these distinct RNA length forms . Focusing on the immune regulator IRF5 , we established the effect of natural variation in RNA 3′-end processing on regulatory response to antigen stimulation . Our results underscore the importance of two mechanisms at play in the genetics of 3′-end variation: the usage of distinct 3′-end processing signals and the effects of 3′ sequence elements that determine transcript fate . Our findings suggest that the strategy of integrating observed 3′-end positions with inferred 3′ regulatory motifs will prove to be a critical tool in continued efforts to interpret human genome variation .  Naturally occurring genetic differences in gene regulation within populations underlie phenotypes of evolutionary and biomedical interest [1]–[3] and can serve as the basis for inference of regulatory networks [4] , [5] . A key problem in the field is understanding the molecular mechanisms by which DNA sequence variants give rise to expression change . Recent work has emphasized the importance of sequence differences in regions upstream of gene loci that harbor cis-acting determinants of transcription factor binding [6]–[10] and chromatin architecture [11]–[13] . Much less is known about the role of 3′-end regulation as a determinant of expression variation between individuals . Alternative polyadenylation represents a major regulatory strategy in the human genome , with analysis across tissue types detecting multiple 3′ UTR forms of over half of all human genes [14] . Detailed genetic studies have implicated polymorphisms affecting transcript termination in both Mendelian and complex human disease [15]–[20] . Genomic analyses have hinted at a broader role for genetic differences in RNA 3′-end processing as a driver of expression variation [6] , [8] , [21] , [22] , but the prevalence and the mechanisms of these changes are incompletely understood . Progress in dissecting the genetics of 3′-end processing has been limited in part by fundamental questions about the regulatory information encoded in 3′ UTRs . Single-gene studies have made clear that , in addition to its interplay with exonic splicing [23] , [24] , RNA 3′-end processing can dictate the extent of 3′ UTR sequence incorporated into mature transcripts that governs half-life , translation , and localization [25]–[29]; the efficiency of transcription termination itself can also influence steady-state expression level of a given length form [30]–[34] . In general , however , identifying the regulatory elements that underlie relationships between 3′ UTR sequence and gene expression remains a primary challenge , and for the majority of human genes , the regulatory impact of alternative polyadenylation is unknown . Likewise , the search for molecular players underlying cis-regulation of 3′-end processing at individual gene loci [23] and genome-scale regulation of 3′-end processing in trans [14] , [29] , [35]–[40] is an area of active research . A complete understanding of the genetics of alternative polyadenylation will require maps of transcript end site usage and 3′ cis-regulatory elements , and analysis strategies to integrate the data . Recently developed short-read sequencing methods for transcript ends [40]–[46] have enabled the possibility of quantitative studies of the regulatory architecture of transcript end forms on a genomic scale . In this work , we set out to investigate mechanisms by which alternative polyadenylation impacts gene expression and its variation across genetically distinct human individuals . We used 3′-end RNA-seq [42] to maximize the genomic coverage and precision of transcript end positions , and to measure quantitative expression levels of transcript forms . The results shed light on the architecture of transcript ends and regulatory elements in human 3′ UTRs and the principles of genetic variation in 3′ length form usage . \n"
     ]
    }
   ],
   "source": [
    "# write the finalarr to a file\n",
    "print(len(finalarr))\n",
    "print(finalarr[0])\n",
    "with open('plosdirectabsintro.txt', 'w') as f:\n",
    "    for i in finalarr:\n",
    "        f.write(i+'\\n')"
   ]
  }
 ],
 "metadata": {
  "kernelspec": {
   "display_name": "base",
   "language": "python",
   "name": "python3"
  },
  "language_info": {
   "codemirror_mode": {
    "name": "ipython",
    "version": 3
   },
   "file_extension": ".py",
   "mimetype": "text/x-python",
   "name": "python",
   "nbconvert_exporter": "python",
   "pygments_lexer": "ipython3",
   "version": "3.11.4"
  }
 },
 "nbformat": 4,
 "nbformat_minor": 2
}
